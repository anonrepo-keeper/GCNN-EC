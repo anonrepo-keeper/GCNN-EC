{
  "nbformat": 4,
  "nbformat_minor": 0,
  "metadata": {
    "colab": {
      "provenance": []
    },
    "kernelspec": {
      "name": "python3",
      "display_name": "Python 3"
    },
    "language_info": {
      "name": "python"
    }
  },
  "cells": [
    {
      "cell_type": "code",
      "execution_count": null,
      "metadata": {
        "id": "xukbZ7TeiDD5"
      },
      "outputs": [],
      "source": [
        "from skimage import io, color, util, filters\n",
        "import numpy as np\n",
        "import networkx as nx\n",
        "from sklearn.neighbors import NearestNeighbors\n",
        "import matplotlib.pyplot as plt\n",
        "# load and binarize the image\n",
        "# Use any sample image !!!!!!!\n",
        "image = io.imread(\"/content/mnistsample.png\")\n",
        "if len(image.shape) == 2:\n",
        "    # Duplicate the single channel to create a three-channel image\n",
        "    image = np.stack((image,) * 3, axis=-1)\n",
        "image = color.rgb2gray(image)\n",
        "image = util.invert(image)\n",
        "binary_image = image > filters.threshold_otsu(image)\n",
        "\n",
        "G = nx.Graph()\n",
        "\n",
        "\n",
        "for (x, y), value in np.ndenumerate(binary_image):\n",
        "    G.add_node((x, y), binary=value)\n",
        "\n",
        "\n",
        "white_pixels = np.argwhere(binary_image == 1)\n",
        "\n",
        "\n",
        "neigh = NearestNeighbors(n_neighbors=5)\n",
        "\n",
        "\n",
        "neigh.fit(white_pixels)\n",
        "\n",
        "\n",
        "for pixel in white_pixels:\n",
        "    distances, indices = neigh.kneighbors([pixel])\n",
        "    for idx, neighbor_idx in enumerate(indices[0]):\n",
        "        neighbor = white_pixels[neighbor_idx]\n",
        "        # use distance as weight (smaller distance -> larger weight)\n",
        "        weight = 1 / distances[0][idx] if distances[0][idx] != 0 else 1\n",
        "        G.add_edge(tuple(pixel), tuple(neighbor), weight=weight)\n",
        "\n"
      ]
    },
    {
      "cell_type": "code",
      "source": [
        "\n",
        "\n",
        "fig, ax = plt.subplots()\n",
        "ax.imshow(binary_image, cmap=plt.cm.gray)\n",
        "\n",
        "# Iterate over edges and plot lines\n",
        "for edge in G.edges(data=True):\n",
        "    x1, y1 = edge[0]\n",
        "    x2, y2 = edge[1]\n",
        "    ax.plot([y1, y2], [x1, x2], 'r-', linewidth=0.5)\n",
        "\n",
        "plt.show()"
      ],
      "metadata": {
        "id": "Bw4gsgiVifiM"
      },
      "execution_count": null,
      "outputs": []
    }
  ]
}